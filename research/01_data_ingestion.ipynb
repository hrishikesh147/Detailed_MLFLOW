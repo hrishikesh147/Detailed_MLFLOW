{
 "cells": [
  {
   "cell_type": "code",
   "execution_count": 1,
   "metadata": {},
   "outputs": [],
   "source": [
    "import os"
   ]
  },
  {
   "cell_type": "code",
   "execution_count": 2,
   "metadata": {},
   "outputs": [
    {
     "data": {
      "text/plain": [
       "'e:\\\\FullStack_Data\\\\MACHINE_LEARNING\\\\PROJECTS\\\\Detailed_Project\\\\Detailed_MLFLOW\\\\research'"
      ]
     },
     "execution_count": 2,
     "metadata": {},
     "output_type": "execute_result"
    }
   ],
   "source": [
    "%pwd"
   ]
  },
  {
   "cell_type": "code",
   "execution_count": 3,
   "metadata": {},
   "outputs": [],
   "source": [
    "os.chdir('../')"
   ]
  },
  {
   "cell_type": "code",
   "execution_count": null,
   "metadata": {},
   "outputs": [],
   "source": []
  },
  {
   "cell_type": "code",
   "execution_count": 21,
   "metadata": {},
   "outputs": [
    {
     "data": {
      "text/plain": [
       "'e:\\\\FullStack_Data\\\\MACHINE_LEARNING\\\\PROJECTS\\\\Detailed_Project\\\\Detailed_MLFLOW'"
      ]
     },
     "execution_count": 21,
     "metadata": {},
     "output_type": "execute_result"
    }
   ],
   "source": [
    "%pwd"
   ]
  },
  {
   "cell_type": "code",
   "execution_count": 22,
   "metadata": {},
   "outputs": [],
   "source": [
    "# import http.client"
   ]
  },
  {
   "cell_type": "code",
   "execution_count": 23,
   "metadata": {},
   "outputs": [],
   "source": [
    "from dataclasses import dataclass\n",
    "from pathlib import Path\n",
    "from src.Detailed_MLFLow_project.constants import *\n",
    "\n",
    "\n",
    "@dataclass(frozen=True)\n",
    "class DataIngestionConfig:\n",
    "      root_dir: Path\n",
    "      source_URL: str\n",
    "      local_data_file: Path\n",
    "      unzip_data: Path\n"
   ]
  },
  {
   "cell_type": "code",
   "execution_count": 24,
   "metadata": {},
   "outputs": [],
   "source": [
    "from src.Detailed_MLFLow_project.constants import *\n",
    "from src.Detailed_MLFLow_project.utils.common import read_yaml,create_directories\n",
    "\n",
    "class Configuration_Manager:\n",
    "    def __init__(self,config_f=CONFIG_FILE_PATH,schema_f=SCHEMA_FILE_PATH,params_f=PARAMS_FILE_PATH):\n",
    "        self.config_read=read_yaml(config_f)\n",
    "        self.schema_read=read_yaml(schema_f)\n",
    "        self.params_read=read_yaml(params_f)\n",
    "\n",
    "        create_directories([self.config_read.artifacts_root])\n",
    "\n",
    "    def data_ingestion_config(self) -> DataIngestionConfig:\n",
    "    \n",
    "        config=self.config_read.data_ingestion\n",
    "        create_directories([config.root_dir])\n",
    "\n",
    "        get_data_ingestion_config=DataIngestionConfig(\n",
    "            root_dir= config.root_dir,\n",
    "            source_URL = config.source_URL,\n",
    "            local_data_file = config.local_data_file,\n",
    "            unzip_data = config.unzip_data \n",
    "\n",
    "        )\n",
    "        return get_data_ingestion_config"
   ]
  },
  {
   "cell_type": "code",
   "execution_count": 32,
   "metadata": {},
   "outputs": [],
   "source": [
    "import os\n",
    "import urllib.request as request\n",
    "from src import logger\n",
    "import zipfile\n",
    "\n",
    "class DataIngestion:\n",
    "    def __init__(self,config:DataIngestionConfig):\n",
    "        self.config=config\n",
    "\n",
    "    def download_data(self):\n",
    "        if not os.path.exists(self.config.local_data_file):\n",
    "            filename,header=request.urlretrieve(\n",
    "                url=self.config.source_URL,\n",
    "                filename=self.config.local_data_file\n",
    "            )\n",
    "            logger.info(f\"file : {filename} downloaded\")\n",
    "        else:\n",
    "            filename=self.config.local_data_file\n",
    "            logger.info(f\"file : {filename} already exists\")\n",
    "\n",
    "    def extract_zip_file(self):\n",
    "        try:\n",
    "            unzip_path=self.config.unzip_data\n",
    "            \n",
    "            with zipfile.ZipFile(self.config.local_data_file,'r') as zip_d:\n",
    "                zip_d.extractall(unzip_path)\n",
    "            logger.info(\"file unzipped successfully\")\n",
    "        except Exception as e:\n",
    "            raise e"
   ]
  },
  {
   "cell_type": "code",
   "execution_count": 33,
   "metadata": {},
   "outputs": [
    {
     "name": "stdout",
     "output_type": "stream",
     "text": [
      "[2024-03-19 16:03:49,705: INFO: common: yaml file {'artifacts_root': 'artifacts', 'data_ingestion': {'root_dir': 'artifacts/data_ingestion', 'source_URL': 'https://github.com/hrishikesh147/MLProject/raw/main/part_namesz.zip', 'local_data_file': 'artifacts/data_ingestion/zipped_data.zip', 'unzip_data': 'artifacts/data_ingestion/data'}} loaded successfully]\n",
      "[2024-03-19 16:03:49,711: INFO: common: yaml file {'key2': 'value2'} loaded successfully]\n",
      "[2024-03-19 16:03:49,714: INFO: common: yaml file {'kay1': 'value1'} loaded successfully]\n",
      "[2024-03-19 16:03:49,719: INFO: common: created directory at path artifacts]\n",
      "[2024-03-19 16:03:49,720: INFO: common: created directory at path artifacts/data_ingestion]\n",
      "[2024-03-19 16:03:49,722: INFO: 2635393076: file : artifacts/data_ingestion/zipped_data.zip already exists]\n",
      "[2024-03-19 16:03:49,744: INFO: 2635393076: file unzipped successfully]\n"
     ]
    }
   ],
   "source": [
    "try:\n",
    "    con1=Configuration_Manager()\n",
    "    data_ingestion_configure=con1.data_ingestion_config()\n",
    "    data_ingest=DataIngestion(config=data_ingestion_configure)\n",
    "    data_ingest.download_data()\n",
    "    data_ingest.extract_zip_file()\n",
    "except Exception as e:\n",
    "    raise e"
   ]
  },
  {
   "cell_type": "code",
   "execution_count": null,
   "metadata": {},
   "outputs": [],
   "source": []
  },
  {
   "cell_type": "code",
   "execution_count": null,
   "metadata": {},
   "outputs": [],
   "source": []
  }
 ],
 "metadata": {
  "kernelspec": {
   "display_name": "Python 3",
   "language": "python",
   "name": "python3"
  },
  "language_info": {
   "codemirror_mode": {
    "name": "ipython",
    "version": 3
   },
   "file_extension": ".py",
   "mimetype": "text/x-python",
   "name": "python",
   "nbconvert_exporter": "python",
   "pygments_lexer": "ipython3",
   "version": "0.0.0"
  }
 },
 "nbformat": 4,
 "nbformat_minor": 2
}
