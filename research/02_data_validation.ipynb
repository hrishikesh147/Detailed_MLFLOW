{
 "cells": [
  {
   "cell_type": "code",
   "execution_count": 1,
   "metadata": {},
   "outputs": [],
   "source": [
    "import os"
   ]
  },
  {
   "cell_type": "code",
   "execution_count": 2,
   "metadata": {},
   "outputs": [
    {
     "data": {
      "text/plain": [
       "'e:\\\\FullStack_Data\\\\MACHINE_LEARNING\\\\PROJECTS\\\\Detailed_Project\\\\Detailed_MLFLOW\\\\research'"
      ]
     },
     "execution_count": 2,
     "metadata": {},
     "output_type": "execute_result"
    }
   ],
   "source": [
    "%pwd"
   ]
  },
  {
   "cell_type": "code",
   "execution_count": 3,
   "metadata": {},
   "outputs": [],
   "source": [
    "os.chdir('../')"
   ]
  },
  {
   "cell_type": "code",
   "execution_count": 24,
   "metadata": {},
   "outputs": [
    {
     "data": {
      "text/plain": [
       "'e:\\\\FullStack_Data\\\\MACHINE_LEARNING\\\\PROJECTS\\\\Detailed_Project\\\\Detailed_MLFLOW'"
      ]
     },
     "execution_count": 24,
     "metadata": {},
     "output_type": "execute_result"
    }
   ],
   "source": [
    "%pwd"
   ]
  },
  {
   "cell_type": "code",
   "execution_count": 25,
   "metadata": {},
   "outputs": [],
   "source": [
    "from pathlib import Path\n",
    "from dataclasses import dataclass\n",
    "\n",
    "@dataclass(frozen=True)\n",
    "class DataValidationConfig:\n",
    "    root_dir: Path\n",
    "    status_file: str\n",
    "    unzip_data_dir: Path\n",
    "    all_schema: dict"
   ]
  },
  {
   "cell_type": "code",
   "execution_count": 26,
   "metadata": {},
   "outputs": [],
   "source": [
    "from src.Detailed_MLFLow_project.constants import *\n",
    "from src.Detailed_MLFLow_project.utils.common import read_yaml,create_directories\n",
    "\n",
    "class Configuration_Manager:\n",
    "\n",
    "    def __init__(self,config_f=CONFIG_FILE_PATH,schema_f=SCHEMA_FILE_PATH,params_f=PARAMS_FILE_PATH):\n",
    "        self.config=read_yaml(config_f)\n",
    "        self.schema=read_yaml(schema_f)\n",
    "        self.params=read_yaml(params_f)\n",
    "\n",
    "        create_directories([self.config.artifacts_root])\n",
    "\n",
    "    def data_validation_config(self) ->DataValidationConfig:\n",
    "        config=self.config.data_validation\n",
    "        schema=self.schema.COLUMNS\n",
    "\n",
    "        create_directories([config.root_dir])\n",
    "\n",
    "        get_data_validation_config=DataValidationConfig(\n",
    "            root_dir=config.root_dir,\n",
    "            status_file=config.status_file,\n",
    "            unzip_data_dir=config.unzip_data_dir,\n",
    "            all_schema=schema\n",
    "        )\n",
    "\n",
    "        return get_data_validation_config\n"
   ]
  },
  {
   "cell_type": "code",
   "execution_count": 29,
   "metadata": {},
   "outputs": [],
   "source": [
    "from src import logger\n",
    "import pandas as pd\n",
    "class Data_validation:\n",
    "    def __init__(self,config:DataValidationConfig):\n",
    "        self.config=config\n",
    "\n",
    "    def check_data_validation(self) ->bool:\n",
    "        validation_status=None\n",
    "        df=pd.read_csv(\"artifacts/data_ingestion/data/part_names.csv\")\n",
    "        ref_columns=list(df.columns)\n",
    "        all_schema=self.config.all_schema.keys()\n",
    "\n",
    "        try:\n",
    "            for i in ref_columns:\n",
    "                if i not in all_schema:\n",
    "                    validation_status=False\n",
    "                    logger.info(f\"feature {i} does not exist\")\n",
    "                    with open(self.config.status_file, \"w\") as stat:\n",
    "                        stat.write(f\"Validation Status: {validation_status}\")\n",
    "                \n",
    "                else:\n",
    "                    validation_status=True\n",
    "                    logger.info(f\"feature {i} matched\")\n",
    "                    with open(self.config.status_file, \"w\") as stat:\n",
    "                        stat.write(f\"Validation Status: {validation_status}\")\n",
    "\n",
    "\n",
    "        except Exception as e:\n",
    "            raise e"
   ]
  },
  {
   "cell_type": "code",
   "execution_count": 30,
   "metadata": {},
   "outputs": [
    {
     "name": "stdout",
     "output_type": "stream",
     "text": [
      "[2024-03-21 14:59:37,559: INFO: common: yaml file {'artifacts_root': 'artifacts', 'data_ingestion': {'root_dir': 'artifacts/data_ingestion', 'source_URL': 'https://github.com/hrishikesh147/MLProject/raw/main/part_namesz.zip', 'local_data_file': 'artifacts/data_ingestion/zipped_data.zip', 'unzip_data': 'artifacts/data_ingestion/data'}, 'data_validation': {'root_dir': 'artifacts/data_validation', 'status_file': 'artifacts/data_validation/status.txt', 'unzip_data_dir': 'artifacts/data_ingestion/data/part_names.csv'}} loaded successfully]\n",
      "[2024-03-21 14:59:37,568: INFO: common: yaml file {'COLUMNS': {'VehicleModel': 'object', 'VehicleYear': 'int64', 'PartName': 'object', 'HoursOfOperation': 'float64', 'SupplierName': 'object', 'ClaimDate': 'object', 'SettlementAmount': 'float64', 'MaintenanceFrequency': 'object', 'EnvironmentCondition': 'object', 'OperationalIntensity': 'object', 'WarrantyStatus': 'object', 'PreviousFailures': 'int64', 'pass_fail': 'object'}, 'TARGET_COLUMN': {'name': 'pass_fail'}} loaded successfully]\n",
      "[2024-03-21 14:59:37,578: INFO: common: yaml file {'kay1': 'value1'} loaded successfully]\n",
      "[2024-03-21 14:59:37,578: INFO: common: created directory at path artifacts]\n",
      "[2024-03-21 14:59:37,583: INFO: common: created directory at path artifacts/data_validation]\n",
      "[2024-03-21 14:59:37,616: INFO: 2979528757: feature VehicleModel matched]\n",
      "[2024-03-21 14:59:37,616: INFO: 2979528757: feature VehicleYear matched]\n",
      "[2024-03-21 14:59:37,624: INFO: 2979528757: feature PartName matched]\n",
      "[2024-03-21 14:59:37,628: INFO: 2979528757: feature HoursOfOperation matched]\n",
      "[2024-03-21 14:59:37,632: INFO: 2979528757: feature SupplierName matched]\n",
      "[2024-03-21 14:59:37,635: INFO: 2979528757: feature ClaimDate matched]\n",
      "[2024-03-21 14:59:37,635: INFO: 2979528757: feature SettlementAmount matched]\n",
      "[2024-03-21 14:59:37,641: INFO: 2979528757: feature MaintenanceFrequency matched]\n",
      "[2024-03-21 14:59:37,643: INFO: 2979528757: feature EnvironmentCondition matched]\n",
      "[2024-03-21 14:59:37,647: INFO: 2979528757: feature OperationalIntensity matched]\n",
      "[2024-03-21 14:59:37,652: INFO: 2979528757: feature WarrantyStatus matched]\n",
      "[2024-03-21 14:59:37,652: INFO: 2979528757: feature PreviousFailures matched]\n",
      "[2024-03-21 14:59:37,656: INFO: 2979528757: feature pass_fail matched]\n"
     ]
    }
   ],
   "source": [
    "try:\n",
    "    con1=Configuration_Manager()\n",
    "    data_val_configure=con1.data_validation_config()\n",
    "    data_val=Data_validation(config=data_val_configure)\n",
    "    data_val.check_data_validation()\n",
    "except Exception as e:\n",
    "    raise e"
   ]
  },
  {
   "cell_type": "code",
   "execution_count": null,
   "metadata": {},
   "outputs": [],
   "source": []
  },
  {
   "cell_type": "code",
   "execution_count": null,
   "metadata": {},
   "outputs": [],
   "source": []
  }
 ],
 "metadata": {
  "kernelspec": {
   "display_name": "Python 3",
   "language": "python",
   "name": "python3"
  },
  "language_info": {
   "codemirror_mode": {
    "name": "ipython",
    "version": 3
   },
   "file_extension": ".py",
   "mimetype": "text/x-python",
   "name": "python",
   "nbconvert_exporter": "python",
   "pygments_lexer": "ipython3",
   "version": "3.8.0"
  }
 },
 "nbformat": 4,
 "nbformat_minor": 2
}
