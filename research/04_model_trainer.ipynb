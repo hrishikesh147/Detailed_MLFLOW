{
 "cells": [
  {
   "cell_type": "code",
   "execution_count": 1,
   "metadata": {},
   "outputs": [
    {
     "data": {
      "text/plain": [
       "'e:\\\\FullStack_Data\\\\MACHINE_LEARNING\\\\PROJECTS\\\\Detailed_Project\\\\Detailed_MLFLOW\\\\research'"
      ]
     },
     "execution_count": 1,
     "metadata": {},
     "output_type": "execute_result"
    }
   ],
   "source": [
    "%pwd"
   ]
  },
  {
   "cell_type": "code",
   "execution_count": 2,
   "metadata": {},
   "outputs": [],
   "source": [
    "import os\n",
    "os.chdir('../')"
   ]
  },
  {
   "cell_type": "code",
   "execution_count": 3,
   "metadata": {},
   "outputs": [
    {
     "data": {
      "text/plain": [
       "'e:\\\\FullStack_Data\\\\MACHINE_LEARNING\\\\PROJECTS\\\\Detailed_Project\\\\Detailed_MLFLOW'"
      ]
     },
     "execution_count": 3,
     "metadata": {},
     "output_type": "execute_result"
    }
   ],
   "source": [
    "%pwd"
   ]
  },
  {
   "cell_type": "code",
   "execution_count": 1,
   "metadata": {},
   "outputs": [],
   "source": [
    "from dataclasses import dataclass\n",
    "from pathlib import Path\n",
    "\n",
    "@dataclass(frozen=True)\n",
    "class Model_trainer_config:\n",
    "    root_dir: Path\n",
    "    train_data_path: Path\n",
    "    test_data_path: Path\n",
    "    model_path: Path\n",
    "    n_estimators: float\n",
    "    max_depth: float\n",
    "    min_samples_split: float\n",
    "    min_samples_leaf: float\n",
    "    bootstrap: bool\n",
    "\n",
    "\n"
   ]
  },
  {
   "cell_type": "code",
   "execution_count": 2,
   "metadata": {},
   "outputs": [],
   "source": [
    "from src.Detailed_MLFLow_project.constants import *\n",
    "from src.Detailed_MLFLow_project.utils.common import read_yaml,create_directories\n",
    "class ConfigurationManager:\n",
    "    def init__(self,config_read=CONFIG_FILE_PATH,params_read=PARAMS_FILE_PATH,schema_read=SCHEMA_FILE_PATH):\n",
    "        self.config=read_yaml(config_read)\n",
    "        self.schema=read_yaml(schema_read)\n",
    "        self.params=read_yaml(params_read)\n",
    "\n",
    "        create_directories([self.config.model_training])\n",
    "\n",
    "    def get_model_trainer_config(self,config:Model_trainer_config):\n",
    "        self.config=self.config.model_training\n",
    "        self.params=self.params.random_forest\n",
    "\n",
    "        create_directories([config.root_dir])\n",
    "\n",
    "        Model_trainer_con=Model_trainer_config(\n",
    "            root_dir=self.config.root_dir,\n",
    "            train_data_path=self.config.train_data_path,\n",
    "            test_data_path=self.config.test_data_path,\n",
    "            model_path=self.config.model_path,\n",
    "            n_estimators=self.params.n_estimators,\n",
    "            max_depth=self.params.max_depth,\n",
    "            min_samples_split=self.params.min_samples_split,\n",
    "            min_samples_leaf=self.params.min_samples_leaf,\n",
    "            bootstrap=self.params.bootstrap\n",
    "        )\n",
    "\n",
    "        return Model_trainer_con"
   ]
  },
  {
   "cell_type": "code",
   "execution_count": 3,
   "metadata": {},
   "outputs": [
    {
     "ename": "ImportError",
     "evalue": "cannot import name 'logger' from 'src.Detailed_MLFLow_project' (e:\\fullstack_data\\machine_learning\\projects\\detailed_project\\detailed_mlflow\\src\\Detailed_MLFLow_project\\__init__.py)",
     "output_type": "error",
     "traceback": [
      "\u001b[1;31m---------------------------------------------------------------------------\u001b[0m",
      "\u001b[1;31mImportError\u001b[0m                               Traceback (most recent call last)",
      "Cell \u001b[1;32mIn[3], line 8\u001b[0m\n\u001b[0;32m      6\u001b[0m \u001b[38;5;28;01mfrom\u001b[39;00m \u001b[38;5;21;01msklearn\u001b[39;00m\u001b[38;5;21;01m.\u001b[39;00m\u001b[38;5;21;01mmodel_selection\u001b[39;00m \u001b[38;5;28;01mimport\u001b[39;00m train_test_split\n\u001b[0;32m      7\u001b[0m \u001b[38;5;28;01mfrom\u001b[39;00m \u001b[38;5;21;01msklearn\u001b[39;00m\u001b[38;5;21;01m.\u001b[39;00m\u001b[38;5;21;01mmetrics\u001b[39;00m \u001b[38;5;28;01mimport\u001b[39;00m recall_score\n\u001b[1;32m----> 8\u001b[0m \u001b[38;5;28;01mfrom\u001b[39;00m \u001b[38;5;21;01msrc\u001b[39;00m\u001b[38;5;21;01m.\u001b[39;00m\u001b[38;5;21;01mDetailed_MLFLow_project\u001b[39;00m \u001b[38;5;28;01mimport\u001b[39;00m logger\n\u001b[0;32m     12\u001b[0m \u001b[38;5;28;01mclass\u001b[39;00m \u001b[38;5;21;01mModel_Training\u001b[39;00m:\n\u001b[0;32m     13\u001b[0m     \u001b[38;5;28;01mdef\u001b[39;00m \u001b[38;5;21m__init__\u001b[39m(\u001b[38;5;28mself\u001b[39m,config):\n",
      "\u001b[1;31mImportError\u001b[0m: cannot import name 'logger' from 'src.Detailed_MLFLow_project' (e:\\fullstack_data\\machine_learning\\projects\\detailed_project\\detailed_mlflow\\src\\Detailed_MLFLow_project\\__init__.py)"
     ]
    }
   ],
   "source": [
    "import pandas as pd\n",
    "from pathlib import Path\n",
    "\n",
    "from sklearn.linear_model import LogisticRegression\n",
    "from sklearn.ensemble import RandomForestClassifier\n",
    "from sklearn.model_selection import train_test_split\n",
    "from sklearn.metrics import recall_score\n",
    "from src.Detailed_MLFLow_project import logger\n",
    "\n",
    "\n",
    "\n",
    "class Model_Training:\n",
    "    def __init__(self,config):\n",
    "        self.config=config\n",
    "\n",
    "    def model_algorithms(self,X_train,X_test,y_train,y_test):\n",
    "\n",
    "        algorithms_dict={\n",
    "            'logistic_regression':LogisticRegression(),\n",
    "            'random_forest':RandomForestClassifier(),\n",
    "        }\n",
    "\n",
    "        Final_dict={}\n",
    "\n",
    "        for name,algo in algorithms_dict.items():\n",
    "            algo.fit(X_train,y_train)\n",
    "            y_pred=algo.predict(X_test)\n",
    "            recall_value=recall_score(y_test,y_pred)\n",
    "            logger.info(f\"Model name {name}---Recall_Score : {recall_value}  ---\")\n",
    "            Final_dict[name]=recall_value\n",
    "\n",
    "        return Final_dict\n",
    "            \n",
    "\n",
    "\n",
    "    def training(self):\n",
    "        df_train=pd.read_csv(self.config.model_training.train_data_path)\n",
    "        df_test=pd.read_csv(self.config.model_training.test_data_path)\n",
    "\n",
    "        X_train=df_train.drop(self.schema.TARGET_COLUMN.name,axis=1)\n",
    "        y_train=df_train(self.schema.TARGET_COLUMN.name)\n",
    "        X_test=df_test.drop(self.schema.TARGET_COLUMN.name,axis=1)\n",
    "        y_test=df_test(self.schema.TARGET_COLUMN.name)\n",
    "\n",
    "        self.model_algorithms(X_train,X_test,y_train,y_test)\n",
    "\n",
    "\n",
    "\n",
    "        \n",
    "\n"
   ]
  },
  {
   "cell_type": "code",
   "execution_count": null,
   "metadata": {},
   "outputs": [],
   "source": []
  }
 ],
 "metadata": {
  "kernelspec": {
   "display_name": "Python 3",
   "language": "python",
   "name": "python3"
  },
  "language_info": {
   "codemirror_mode": {
    "name": "ipython",
    "version": 3
   },
   "file_extension": ".py",
   "mimetype": "text/x-python",
   "name": "python",
   "nbconvert_exporter": "python",
   "pygments_lexer": "ipython3",
   "version": "3.8.0"
  }
 },
 "nbformat": 4,
 "nbformat_minor": 2
}
